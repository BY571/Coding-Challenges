{
  "nbformat": 4,
  "nbformat_minor": 0,
  "metadata": {
    "colab": {
      "name": "Untitled0.ipynb",
      "version": "0.3.2",
      "provenance": []
    },
    "kernelspec": {
      "name": "python3",
      "display_name": "Python 3"
    }
  },
  "cells": [
    {
      "metadata": {
        "id": "7Iv3pITTWocj",
        "colab_type": "code",
        "colab": {}
      },
      "cell_type": "code",
      "source": [
        "# Task: Given an array of integers, find the first missing positive integer in linear time and constant space. \n",
        "# In other words, find the lowest positiv integer that does not exist in the array. \n",
        "# The array can obtain duplicates and negative numbers as well.\n",
        "\n",
        "# For example, the input [3,4,-1,1] sould give 2. The input [1,2,0] should give 3. \n",
        "# And so on..."
      ],
      "execution_count": 0,
      "outputs": []
    },
    {
      "metadata": {
        "id": "oh1Tw1pZWqmr",
        "colab_type": "code",
        "colab": {}
      },
      "cell_type": "code",
      "source": [
        "ex1 = [3,4,-1,1]\n",
        "ex2 = [1,2,0]\n",
        "ex3 = [1,2,2,3,5]"
      ],
      "execution_count": 0,
      "outputs": []
    },
    {
      "metadata": {
        "id": "koqHsfjGWqjl",
        "colab_type": "code",
        "colab": {}
      },
      "cell_type": "code",
      "source": [
        "def find_missing_int(l):\n",
        "  l.sort()\n",
        "  start = l[0]\n",
        "  i = 0\n",
        "  while start < 0: #theoretically not necessary since we always start at 1\n",
        "    i += 1\n",
        "    start =  l[i] \n",
        "  end = l[-1]\n",
        "  #print(start, end)\n",
        "  for j in range(start,end):\n",
        "    if j not in l:\n",
        "      return j\n",
        "  return end+1"
      ],
      "execution_count": 0,
      "outputs": []
    },
    {
      "metadata": {
        "id": "MkFciypqWqgS",
        "colab_type": "code",
        "colab": {
          "base_uri": "https://localhost:8080/",
          "height": 34
        },
        "outputId": "ab0e2f04-5c20-4d62-d1a8-278fbdfd4e07"
      },
      "cell_type": "code",
      "source": [
        "ans = find_missing_int(ex3)\n",
        "print(\"Answer: \", ans)"
      ],
      "execution_count": 60,
      "outputs": [
        {
          "output_type": "stream",
          "text": [
            "Answer:  4\n"
          ],
          "name": "stdout"
        }
      ]
    }
  ]
}