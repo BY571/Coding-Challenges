{
  "nbformat": 4,
  "nbformat_minor": 0,
  "metadata": {
    "colab": {
      "name": "Daily_Coding_Challenge_3.ipynb",
      "version": "0.3.2",
      "provenance": []
    },
    "kernelspec": {
      "name": "python3",
      "display_name": "Python 3"
    }
  },
  "cells": [
    {
      "metadata": {
        "id": "5JVilPvmRZQN",
        "colab_type": "code",
        "colab": {}
      },
      "cell_type": "code",
      "source": [
        "# Task: Given the mapping a = 1, b = 2, ... z = 26, and an encoded message, count the number of ways it can be decoded.\n",
        "# For example, the message \"111\" would give 3, since it could be decoded as \"aaa\", \"ka\", and \"ak\"."
      ],
      "execution_count": 0,
      "outputs": []
    },
    {
      "metadata": {
        "id": "IDxDbFbUSyXY",
        "colab_type": "code",
        "colab": {}
      },
      "cell_type": "code",
      "source": [
        "ex1 = 123\n",
        "ex2 = 122\n",
        "ex3 = 222\n",
        "ex4 = 364\n",
        "ex5 = 934\n",
        "examples = [ex1, ex2, ex3, ex4, ex5]\n",
        "\n",
        "# Alphabet\n",
        "a = {1:\"a\",2:\"b\",3:\"c\",4:\"d\",5:\"e\",6:\"f\",8:\"g\",9:\"h\",10:\"i\",11:\"j\",12:\"k\",13:\"l\",14:\"m\",15:\"n\",16:\"o\",17:\"p\",18:\"q\",19:\"r\",20:\"s\",21:\"t\",22:\"u\",23:\"v\",24:\"w\",25:\"x\",26:\"y\",27:\"z\"}\n"
      ],
      "execution_count": 0,
      "outputs": []
    },
    {
      "metadata": {
        "id": "QGPjaLcNTBly",
        "colab_type": "code",
        "colab": {}
      },
      "cell_type": "code",
      "source": [
        "def combinations(l):\n",
        "  l1 = list(str(l))\n",
        "  l2 = [str(l1[0])+str(l1[1]),str(l1[2])]\n",
        "  l3 = [str(l1[0]),str(l1[1])+str(l1[2])]\n",
        "  count = 0\n",
        "  for i in [l1,l2,l3]:\n",
        "    cb = 0\n",
        "    for j in i:\n",
        "      if int(j) in a:\n",
        "        cb += 1\n",
        "    \n",
        "    if cb == 3 and i == l1:\n",
        "      count += 1\n",
        "    if cb == 2 and i == l2:\n",
        "      count += 1\n",
        "    if cb == 2 and i == l3:\n",
        "      count += 1\n",
        "    else:\n",
        "      pass\n",
        "  return count"
      ],
      "execution_count": 0,
      "outputs": []
    },
    {
      "metadata": {
        "id": "B2E56bNBTBfs",
        "colab_type": "code",
        "colab": {
          "base_uri": "https://localhost:8080/",
          "height": 102
        },
        "outputId": "11c82750-278b-4905-e8b8-613a2a0f6b95"
      },
      "cell_type": "code",
      "source": [
        "for i in examples:\n",
        "  \n",
        "  ans = combinations(i)\n",
        "  print(\"Exercise: {} - combinations: {}\".format(i,ans))"
      ],
      "execution_count": 58,
      "outputs": [
        {
          "output_type": "stream",
          "text": [
            "Exercise: 123 - combinations: 3\n",
            "Exercise: 122 - combinations: 3\n",
            "Exercise: 222 - combinations: 3\n",
            "Exercise: 364 - combinations: 1\n",
            "Exercise: 934 - combinations: 1\n"
          ],
          "name": "stdout"
        }
      ]
    }
  ]
}