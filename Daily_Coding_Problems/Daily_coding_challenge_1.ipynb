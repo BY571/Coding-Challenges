{
  "nbformat": 4,
  "nbformat_minor": 0,
  "metadata": {
    "colab": {
      "name": "Daily_coding_challenge#1.ipynb",
      "version": "0.3.2",
      "provenance": [],
      "collapsed_sections": []
    },
    "kernelspec": {
      "name": "python3",
      "display_name": "Python 3"
    }
  },
  "cells": [
    {
      "metadata": {
        "id": "EAexWCaPvCnV",
        "colab_type": "code",
        "colab": {}
      },
      "cell_type": "code",
      "source": [
        "## Task: \n",
        "## Given an array of integers, return a new array such that each element at index i of the new array is\n",
        "## the producht of all the numbers in the original array except the one at i.#\n",
        "\n",
        "## For example: if our input was [1,2,3,4,5], the expected output would be: [120, 60, 40, 30, 24].\n",
        "##     or: [3,2,1] -> [2,3,6]\n",
        "\n"
      ],
      "execution_count": 0,
      "outputs": []
    },
    {
      "metadata": {
        "id": "uunQ-KHiv7eP",
        "colab_type": "code",
        "colab": {}
      },
      "cell_type": "code",
      "source": [
        "ex1 = [1,2,3,4,5]\n",
        "ex2 = [3,2,1]"
      ],
      "execution_count": 0,
      "outputs": []
    },
    {
      "metadata": {
        "id": "aHRzx449v7Tg",
        "colab_type": "code",
        "colab": {
          "base_uri": "https://localhost:8080/",
          "height": 34
        },
        "outputId": "172343bd-dc67-4d5d-fc07-5dd5094256ec"
      },
      "cell_type": "code",
      "source": [
        "import numpy as np\n",
        "ans1 = [int(np.prod(ex1)/i) for i in ex1]\n",
        "print(ans1)\n"
      ],
      "execution_count": 6,
      "outputs": [
        {
          "output_type": "stream",
          "text": [
            "[120, 60, 40, 30, 24]\n"
          ],
          "name": "stdout"
        }
      ]
    },
    {
      "metadata": {
        "id": "4zNypteMv7C7",
        "colab_type": "code",
        "colab": {
          "base_uri": "https://localhost:8080/",
          "height": 34
        },
        "outputId": "d0b70531-88ca-4602-aa21-b7331cb8d860"
      },
      "cell_type": "code",
      "source": [
        "# without the use of division:\n",
        "# answer: just multiply the items from the list without the current index [1,2,3,4] -> first element new list = 2*3*4, second element= 1*3*4 etc..\n",
        "def delete_idx(l,idx):\n",
        "  a = l.copy()\n",
        "  a.pop(idx)\n",
        "  return a \n",
        "\n",
        "ans2 = [np.prod(delete_idx(ex1,i)) for i in range(len(ex1))]\n",
        "ans2"
      ],
      "execution_count": 46,
      "outputs": [
        {
          "output_type": "execute_result",
          "data": {
            "text/plain": [
              "[120, 60, 40, 30, 24]"
            ]
          },
          "metadata": {
            "tags": []
          },
          "execution_count": 46
        }
      ]
    }
  ]
}
